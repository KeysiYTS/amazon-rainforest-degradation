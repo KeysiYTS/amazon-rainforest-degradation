{
  "nbformat": 4,
  "nbformat_minor": 0,
  "metadata": {
    "colab": {
      "name": "rainforest_degradation.ipynb",
      "provenance": [],
      "collapsed_sections": [
        "FHEdD1R5QkwO",
        "RcB3myfqQ5wl",
        "bvVAxt0xRZWh"
      ],
      "mount_file_id": "1Qb0O_lt_-e1TVPFWSix0YKf_LBdfpskz",
      "authorship_tag": "ABX9TyMsoS4bffduqbPMqR2DWohJ",
      "include_colab_link": true
    },
    "kernelspec": {
      "name": "python3",
      "display_name": "Python 3"
    },
    "language_info": {
      "name": "python"
    }
  },
  "cells": [
    {
      "cell_type": "markdown",
      "metadata": {
        "id": "view-in-github",
        "colab_type": "text"
      },
      "source": [
        "<a href=\"https://colab.research.google.com/github/KeysiYTS/amazon-rainforest-degradation/blob/dev/rainforest_degradation.ipynb\" target=\"_parent\"><img src=\"https://colab.research.google.com/assets/colab-badge.svg\" alt=\"Open In Colab\"/></a>"
      ]
    },
    {
      "cell_type": "markdown",
      "metadata": {
        "id": "e_nad14O1YCz"
      },
      "source": [
        "# About"
      ]
    },
    {
      "cell_type": "markdown",
      "metadata": {
        "id": "3gsU5wI71Zv1"
      },
      "source": [
        "\n",
        "[Kaggle dataset](https://www.kaggle.com/mbogernetto/brazilian-amazon-rainforest-degradation)\n",
        "\n",
        "\n",
        "**'inpebrazilianamazonfires1999_2019'** : amount of fire outbreaks in Brazilian Amazon by state, month and year, from 1999 to 2019. The original data are public and were extracted from INPE website on December 13th 2019, always from the filtering for the reference salellite and aggregated using Postgres SQL so that you could work with lighter files.\n",
        "Program: BDQ (Banco de Dados de Queimadas, or Fires Database).\n",
        "Methodology: detects fire outbreaks through satellite images, updated every 3 hours.\n",
        "\n",
        "**'defarea2004_2019'** : deforestation area (km²) by year and state, from 2004 to 2019. The data are public and were extracted from INPE website on December 16th 2019. It was already aggregated, so, no data process was made.\n",
        "Program: PRODES (Programa de Monitoramento da Floresta Amazônica Brasileira por Satélite, or Brazilian Amazon Rainforest Monitoring Program by Satellite).\n",
        "Methodology: maps primary forest loss using satellite imagery, with 20 to 30 meters of spatial resolution and 16-day revisit rate, in a combination that seeks to minimize the problem of cloud cover and ensure interoperability criteria.\n",
        "\n",
        "**'elninolanina1999_2019'** : Data about start year, end year, and severity of 2 of the most important climatic phenomena.\n",
        "Data were extracted from Golden Gate Weather Services on December 20th 2019 and were unpivoted."
      ]
    },
    {
      "cell_type": "code",
      "metadata": {
        "colab": {
          "base_uri": "https://localhost:8080/"
        },
        "id": "R9bDlwL_MiF-",
        "outputId": "5433d458-e39b-4978-e833-a0ca199152ad"
      },
      "source": [
        "!pip install geopandas --quiet"
      ],
      "execution_count": null,
      "outputs": [
        {
          "output_type": "stream",
          "text": [
            "\u001b[K     |████████████████████████████████| 1.0MB 5.0MB/s \n",
            "\u001b[K     |████████████████████████████████| 15.4MB 187kB/s \n",
            "\u001b[K     |████████████████████████████████| 6.6MB 33.6MB/s \n",
            "\u001b[?25h"
          ],
          "name": "stdout"
        }
      ]
    },
    {
      "cell_type": "markdown",
      "metadata": {
        "id": "eWGztBuNz42Q"
      },
      "source": [
        "# Libs"
      ]
    },
    {
      "cell_type": "code",
      "metadata": {
        "id": "EcG_LYpRuN8r"
      },
      "source": [
        "import pandas as pd\n",
        "import seaborn as sns\n",
        "import matplotlib as mpl\n",
        "import matplotlib.pyplot as plt\n",
        "#import geopandas as gpd"
      ],
      "execution_count": null,
      "outputs": []
    },
    {
      "cell_type": "code",
      "metadata": {
        "id": "gUjrw5e0QuXQ"
      },
      "source": [
        "from sklearn.linear_model import LinearRegression\n",
        "from sklearn.model_selection import train_test_split"
      ],
      "execution_count": null,
      "outputs": []
    },
    {
      "cell_type": "code",
      "metadata": {
        "id": "SoOfF7MHMEWD"
      },
      "source": [
        "mpl.rcParams['figure.figsize'] = (10,5)"
      ],
      "execution_count": null,
      "outputs": []
    },
    {
      "cell_type": "markdown",
      "metadata": {
        "id": "qUEsO1zQz4Ez"
      },
      "source": [
        "# Importing data"
      ]
    },
    {
      "cell_type": "code",
      "metadata": {
        "id": "7r9QtTf90d4m"
      },
      "source": [
        "filepath_deforest_14a19 = '/content/drive/MyDrive/0. Machine Learning/Projetos/RainForest_Degradation/def_area_2004_2019.csv'"
      ],
      "execution_count": null,
      "outputs": []
    },
    {
      "cell_type": "code",
      "metadata": {
        "id": "1BTE7spA2kWd"
      },
      "source": [
        "filepath_elnino = '/content/drive/MyDrive/0. Machine Learning/Projetos/RainForest_Degradation/el_nino_la_nina_1999_2019.csv'"
      ],
      "execution_count": null,
      "outputs": []
    },
    {
      "cell_type": "code",
      "metadata": {
        "id": "BbjAweFw2kMv"
      },
      "source": [
        "filepath_amazonfires = '/content/drive/MyDrive/0. Machine Learning/Projetos/RainForest_Degradation/inpe_brazilian_amazon_fires_1999_2019.csv'"
      ],
      "execution_count": null,
      "outputs": []
    },
    {
      "cell_type": "markdown",
      "metadata": {
        "id": "RQfWxDCG203s"
      },
      "source": [
        "# Analyzing Deforestation"
      ]
    },
    {
      "cell_type": "code",
      "metadata": {
        "colab": {
          "base_uri": "https://localhost:8080/",
          "height": 198
        },
        "id": "0CoV7sbM25Mi",
        "outputId": "fb9505a5-f152-46cf-e195-9407e9756b31"
      },
      "source": [
        "deforest_14a19 = pd.read_csv(filepath_deforest_14a19)\n",
        "deforest_14a19.head()"
      ],
      "execution_count": null,
      "outputs": [
        {
          "output_type": "execute_result",
          "data": {
            "text/html": [
              "<div>\n",
              "<style scoped>\n",
              "    .dataframe tbody tr th:only-of-type {\n",
              "        vertical-align: middle;\n",
              "    }\n",
              "\n",
              "    .dataframe tbody tr th {\n",
              "        vertical-align: top;\n",
              "    }\n",
              "\n",
              "    .dataframe thead th {\n",
              "        text-align: right;\n",
              "    }\n",
              "</style>\n",
              "<table border=\"1\" class=\"dataframe\">\n",
              "  <thead>\n",
              "    <tr style=\"text-align: right;\">\n",
              "      <th></th>\n",
              "      <th>Ano/Estados</th>\n",
              "      <th>AC</th>\n",
              "      <th>AM</th>\n",
              "      <th>AP</th>\n",
              "      <th>MA</th>\n",
              "      <th>MT</th>\n",
              "      <th>PA</th>\n",
              "      <th>RO</th>\n",
              "      <th>RR</th>\n",
              "      <th>TO</th>\n",
              "      <th>AMZ LEGAL</th>\n",
              "    </tr>\n",
              "  </thead>\n",
              "  <tbody>\n",
              "    <tr>\n",
              "      <th>0</th>\n",
              "      <td>2004</td>\n",
              "      <td>728</td>\n",
              "      <td>1232</td>\n",
              "      <td>46</td>\n",
              "      <td>755</td>\n",
              "      <td>11814</td>\n",
              "      <td>8870</td>\n",
              "      <td>3858</td>\n",
              "      <td>311</td>\n",
              "      <td>158</td>\n",
              "      <td>27772</td>\n",
              "    </tr>\n",
              "    <tr>\n",
              "      <th>1</th>\n",
              "      <td>2005</td>\n",
              "      <td>592</td>\n",
              "      <td>775</td>\n",
              "      <td>33</td>\n",
              "      <td>922</td>\n",
              "      <td>7145</td>\n",
              "      <td>5899</td>\n",
              "      <td>3244</td>\n",
              "      <td>133</td>\n",
              "      <td>271</td>\n",
              "      <td>19014</td>\n",
              "    </tr>\n",
              "    <tr>\n",
              "      <th>2</th>\n",
              "      <td>2006</td>\n",
              "      <td>398</td>\n",
              "      <td>788</td>\n",
              "      <td>30</td>\n",
              "      <td>674</td>\n",
              "      <td>4333</td>\n",
              "      <td>5659</td>\n",
              "      <td>2049</td>\n",
              "      <td>231</td>\n",
              "      <td>124</td>\n",
              "      <td>14286</td>\n",
              "    </tr>\n",
              "    <tr>\n",
              "      <th>3</th>\n",
              "      <td>2007</td>\n",
              "      <td>184</td>\n",
              "      <td>610</td>\n",
              "      <td>39</td>\n",
              "      <td>631</td>\n",
              "      <td>2678</td>\n",
              "      <td>5526</td>\n",
              "      <td>1611</td>\n",
              "      <td>309</td>\n",
              "      <td>63</td>\n",
              "      <td>11651</td>\n",
              "    </tr>\n",
              "    <tr>\n",
              "      <th>4</th>\n",
              "      <td>2008</td>\n",
              "      <td>254</td>\n",
              "      <td>604</td>\n",
              "      <td>100</td>\n",
              "      <td>1271</td>\n",
              "      <td>3258</td>\n",
              "      <td>5607</td>\n",
              "      <td>1136</td>\n",
              "      <td>574</td>\n",
              "      <td>107</td>\n",
              "      <td>12911</td>\n",
              "    </tr>\n",
              "  </tbody>\n",
              "</table>\n",
              "</div>"
            ],
            "text/plain": [
              "   Ano/Estados   AC    AM   AP    MA     MT    PA    RO   RR   TO  AMZ LEGAL\n",
              "0         2004  728  1232   46   755  11814  8870  3858  311  158      27772\n",
              "1         2005  592   775   33   922   7145  5899  3244  133  271      19014\n",
              "2         2006  398   788   30   674   4333  5659  2049  231  124      14286\n",
              "3         2007  184   610   39   631   2678  5526  1611  309   63      11651\n",
              "4         2008  254   604  100  1271   3258  5607  1136  574  107      12911"
            ]
          },
          "metadata": {
            "tags": []
          },
          "execution_count": 12
        }
      ]
    },
    {
      "cell_type": "markdown",
      "metadata": {
        "id": "HhILEqnf7wrH"
      },
      "source": [
        "It's not clear to me what the column 'AMZ LEGAL' is"
      ]
    },
    {
      "cell_type": "code",
      "metadata": {
        "colab": {
          "base_uri": "https://localhost:8080/",
          "height": 308
        },
        "id": "Zy6gC2r73963",
        "outputId": "fd290407-6b4c-41a7-bc82-9876383baa32"
      },
      "source": [
        "deforest_14a19.describe()"
      ],
      "execution_count": null,
      "outputs": [
        {
          "output_type": "execute_result",
          "data": {
            "text/html": [
              "<div>\n",
              "<style scoped>\n",
              "    .dataframe tbody tr th:only-of-type {\n",
              "        vertical-align: middle;\n",
              "    }\n",
              "\n",
              "    .dataframe tbody tr th {\n",
              "        vertical-align: top;\n",
              "    }\n",
              "\n",
              "    .dataframe thead th {\n",
              "        text-align: right;\n",
              "    }\n",
              "</style>\n",
              "<table border=\"1\" class=\"dataframe\">\n",
              "  <thead>\n",
              "    <tr style=\"text-align: right;\">\n",
              "      <th></th>\n",
              "      <th>Ano/Estados</th>\n",
              "      <th>AC</th>\n",
              "      <th>AM</th>\n",
              "      <th>AP</th>\n",
              "      <th>MA</th>\n",
              "      <th>MT</th>\n",
              "      <th>PA</th>\n",
              "      <th>RO</th>\n",
              "      <th>RR</th>\n",
              "      <th>TO</th>\n",
              "      <th>AMZ LEGAL</th>\n",
              "    </tr>\n",
              "  </thead>\n",
              "  <tbody>\n",
              "    <tr>\n",
              "      <th>count</th>\n",
              "      <td>16.000000</td>\n",
              "      <td>16.000000</td>\n",
              "      <td>16.000000</td>\n",
              "      <td>16.000000</td>\n",
              "      <td>16.000000</td>\n",
              "      <td>16.000000</td>\n",
              "      <td>16.000000</td>\n",
              "      <td>16.000000</td>\n",
              "      <td>16.000000</td>\n",
              "      <td>16.000000</td>\n",
              "      <td>16.000000</td>\n",
              "    </tr>\n",
              "    <tr>\n",
              "      <th>mean</th>\n",
              "      <td>2011.500000</td>\n",
              "      <td>357.625000</td>\n",
              "      <td>776.562500</td>\n",
              "      <td>38.500000</td>\n",
              "      <td>519.875000</td>\n",
              "      <td>2691.562500</td>\n",
              "      <td>3923.625000</td>\n",
              "      <td>1392.437500</td>\n",
              "      <td>243.187500</td>\n",
              "      <td>77.562500</td>\n",
              "      <td>10020.937500</td>\n",
              "    </tr>\n",
              "    <tr>\n",
              "      <th>std</th>\n",
              "      <td>4.760952</td>\n",
              "      <td>172.476037</td>\n",
              "      <td>300.648625</td>\n",
              "      <td>23.557023</td>\n",
              "      <td>316.705305</td>\n",
              "      <td>2940.367595</td>\n",
              "      <td>1945.802487</td>\n",
              "      <td>943.567413</td>\n",
              "      <td>150.567468</td>\n",
              "      <td>63.238141</td>\n",
              "      <td>6112.467134</td>\n",
              "    </tr>\n",
              "    <tr>\n",
              "      <th>min</th>\n",
              "      <td>2004.000000</td>\n",
              "      <td>167.000000</td>\n",
              "      <td>405.000000</td>\n",
              "      <td>8.000000</td>\n",
              "      <td>209.000000</td>\n",
              "      <td>757.000000</td>\n",
              "      <td>1741.000000</td>\n",
              "      <td>435.000000</td>\n",
              "      <td>121.000000</td>\n",
              "      <td>21.000000</td>\n",
              "      <td>4571.000000</td>\n",
              "    </tr>\n",
              "    <tr>\n",
              "      <th>25%</th>\n",
              "      <td>2007.750000</td>\n",
              "      <td>256.250000</td>\n",
              "      <td>568.000000</td>\n",
              "      <td>24.000000</td>\n",
              "      <td>257.750000</td>\n",
              "      <td>1108.750000</td>\n",
              "      <td>2411.250000</td>\n",
              "      <td>842.000000</td>\n",
              "      <td>139.000000</td>\n",
              "      <td>46.750000</td>\n",
              "      <td>6365.250000</td>\n",
              "    </tr>\n",
              "    <tr>\n",
              "      <th>50%</th>\n",
              "      <td>2011.500000</td>\n",
              "      <td>292.500000</td>\n",
              "      <td>661.000000</td>\n",
              "      <td>30.500000</td>\n",
              "      <td>399.500000</td>\n",
              "      <td>1525.500000</td>\n",
              "      <td>3389.000000</td>\n",
              "      <td>1189.500000</td>\n",
              "      <td>198.500000</td>\n",
              "      <td>57.500000</td>\n",
              "      <td>7500.000000</td>\n",
              "    </tr>\n",
              "    <tr>\n",
              "      <th>75%</th>\n",
              "      <td>2015.250000</td>\n",
              "      <td>409.500000</td>\n",
              "      <td>1012.000000</td>\n",
              "      <td>47.750000</td>\n",
              "      <td>722.750000</td>\n",
              "      <td>2823.000000</td>\n",
              "      <td>5546.250000</td>\n",
              "      <td>1434.750000</td>\n",
              "      <td>269.250000</td>\n",
              "      <td>82.250000</td>\n",
              "      <td>11966.000000</td>\n",
              "    </tr>\n",
              "    <tr>\n",
              "      <th>max</th>\n",
              "      <td>2019.000000</td>\n",
              "      <td>728.000000</td>\n",
              "      <td>1421.000000</td>\n",
              "      <td>100.000000</td>\n",
              "      <td>1271.000000</td>\n",
              "      <td>11814.000000</td>\n",
              "      <td>8870.000000</td>\n",
              "      <td>3858.000000</td>\n",
              "      <td>617.000000</td>\n",
              "      <td>271.000000</td>\n",
              "      <td>27772.000000</td>\n",
              "    </tr>\n",
              "  </tbody>\n",
              "</table>\n",
              "</div>"
            ],
            "text/plain": [
              "       Ano/Estados          AC  ...          TO     AMZ LEGAL\n",
              "count    16.000000   16.000000  ...   16.000000     16.000000\n",
              "mean   2011.500000  357.625000  ...   77.562500  10020.937500\n",
              "std       4.760952  172.476037  ...   63.238141   6112.467134\n",
              "min    2004.000000  167.000000  ...   21.000000   4571.000000\n",
              "25%    2007.750000  256.250000  ...   46.750000   6365.250000\n",
              "50%    2011.500000  292.500000  ...   57.500000   7500.000000\n",
              "75%    2015.250000  409.500000  ...   82.250000  11966.000000\n",
              "max    2019.000000  728.000000  ...  271.000000  27772.000000\n",
              "\n",
              "[8 rows x 11 columns]"
            ]
          },
          "metadata": {
            "tags": []
          },
          "execution_count": 13
        }
      ]
    },
    {
      "cell_type": "code",
      "metadata": {
        "colab": {
          "base_uri": "https://localhost:8080/"
        },
        "id": "BYyJP-Bi6pHq",
        "outputId": "c462dba9-f862-4044-b8d9-3c90199b8496"
      },
      "source": [
        "deforest_14a19.columns"
      ],
      "execution_count": null,
      "outputs": [
        {
          "output_type": "execute_result",
          "data": {
            "text/plain": [
              "Index(['Ano/Estados', 'AC', 'AM', 'AP', 'MA', 'MT', 'PA', 'RO', 'RR', 'TO',\n",
              "       'AMZ LEGAL'],\n",
              "      dtype='object')"
            ]
          },
          "metadata": {
            "tags": []
          },
          "execution_count": 14
        }
      ]
    },
    {
      "cell_type": "markdown",
      "metadata": {
        "id": "-dOMF0ZQ39tg"
      },
      "source": [
        "## Analyzing by states"
      ]
    },
    {
      "cell_type": "code",
      "metadata": {
        "colab": {
          "base_uri": "https://localhost:8080/",
          "height": 198
        },
        "id": "fMky23ORFqTX",
        "outputId": "e0a1425a-ce43-42aa-a4c7-43acf5729d42"
      },
      "source": [
        "deforest_14a19_states = deforest_14a19.drop(columns=['Ano/Estados', 'AMZ LEGAL'])\n",
        "deforest_14a19_states.head()"
      ],
      "execution_count": null,
      "outputs": [
        {
          "output_type": "execute_result",
          "data": {
            "text/html": [
              "<div>\n",
              "<style scoped>\n",
              "    .dataframe tbody tr th:only-of-type {\n",
              "        vertical-align: middle;\n",
              "    }\n",
              "\n",
              "    .dataframe tbody tr th {\n",
              "        vertical-align: top;\n",
              "    }\n",
              "\n",
              "    .dataframe thead th {\n",
              "        text-align: right;\n",
              "    }\n",
              "</style>\n",
              "<table border=\"1\" class=\"dataframe\">\n",
              "  <thead>\n",
              "    <tr style=\"text-align: right;\">\n",
              "      <th></th>\n",
              "      <th>AC</th>\n",
              "      <th>AM</th>\n",
              "      <th>AP</th>\n",
              "      <th>MA</th>\n",
              "      <th>MT</th>\n",
              "      <th>PA</th>\n",
              "      <th>RO</th>\n",
              "      <th>RR</th>\n",
              "      <th>TO</th>\n",
              "    </tr>\n",
              "  </thead>\n",
              "  <tbody>\n",
              "    <tr>\n",
              "      <th>0</th>\n",
              "      <td>728</td>\n",
              "      <td>1232</td>\n",
              "      <td>46</td>\n",
              "      <td>755</td>\n",
              "      <td>11814</td>\n",
              "      <td>8870</td>\n",
              "      <td>3858</td>\n",
              "      <td>311</td>\n",
              "      <td>158</td>\n",
              "    </tr>\n",
              "    <tr>\n",
              "      <th>1</th>\n",
              "      <td>592</td>\n",
              "      <td>775</td>\n",
              "      <td>33</td>\n",
              "      <td>922</td>\n",
              "      <td>7145</td>\n",
              "      <td>5899</td>\n",
              "      <td>3244</td>\n",
              "      <td>133</td>\n",
              "      <td>271</td>\n",
              "    </tr>\n",
              "    <tr>\n",
              "      <th>2</th>\n",
              "      <td>398</td>\n",
              "      <td>788</td>\n",
              "      <td>30</td>\n",
              "      <td>674</td>\n",
              "      <td>4333</td>\n",
              "      <td>5659</td>\n",
              "      <td>2049</td>\n",
              "      <td>231</td>\n",
              "      <td>124</td>\n",
              "    </tr>\n",
              "    <tr>\n",
              "      <th>3</th>\n",
              "      <td>184</td>\n",
              "      <td>610</td>\n",
              "      <td>39</td>\n",
              "      <td>631</td>\n",
              "      <td>2678</td>\n",
              "      <td>5526</td>\n",
              "      <td>1611</td>\n",
              "      <td>309</td>\n",
              "      <td>63</td>\n",
              "    </tr>\n",
              "    <tr>\n",
              "      <th>4</th>\n",
              "      <td>254</td>\n",
              "      <td>604</td>\n",
              "      <td>100</td>\n",
              "      <td>1271</td>\n",
              "      <td>3258</td>\n",
              "      <td>5607</td>\n",
              "      <td>1136</td>\n",
              "      <td>574</td>\n",
              "      <td>107</td>\n",
              "    </tr>\n",
              "  </tbody>\n",
              "</table>\n",
              "</div>"
            ],
            "text/plain": [
              "    AC    AM   AP    MA     MT    PA    RO   RR   TO\n",
              "0  728  1232   46   755  11814  8870  3858  311  158\n",
              "1  592   775   33   922   7145  5899  3244  133  271\n",
              "2  398   788   30   674   4333  5659  2049  231  124\n",
              "3  184   610   39   631   2678  5526  1611  309   63\n",
              "4  254   604  100  1271   3258  5607  1136  574  107"
            ]
          },
          "metadata": {
            "tags": []
          },
          "execution_count": 15
        }
      ]
    },
    {
      "cell_type": "code",
      "metadata": {
        "colab": {
          "base_uri": "https://localhost:8080/",
          "height": 320
        },
        "id": "Ej67WbFfEnBC",
        "outputId": "b8c2adc9-1770-4312-9091-6a840c07e6d9"
      },
      "source": [
        "sns.barplot(data=deforest_14a19_states)\n",
        "plt.show()"
      ],
      "execution_count": null,
      "outputs": [
        {
          "output_type": "display_data",
          "data": {
            "image/png": "[encoded data removed]",
            "text/plain": [
              "<Figure size 720x360 with 1 Axes>"
            ]
          },
          "metadata": {
            "tags": [],
            "needs_background": "light"
          }
        }
      ]
    },
    {
      "cell_type": "code",
      "metadata": {
        "colab": {
          "base_uri": "https://localhost:8080/",
          "height": 350
        },
        "id": "qi6GdDqLGEBg",
        "outputId": "30a9aba5-c06f-404f-e745-ae29bf007673"
      },
      "source": [
        "for state in deforest_14a19_states.columns:\n",
        "  sns.lineplot(x=deforest_14a19['Ano/Estados'], y=deforest_14a19[state])\n",
        "\n",
        "plt.legend(deforest_14a19_states.columns)\n",
        "plt.title(\"Deforestation by state between 2004-2019\")\n",
        "plt.ylabel(\"Total in km²\")\n",
        "plt.xlabel('Years')\n",
        "plt.show()"
      ],
      "execution_count": null,
      "outputs": [
        {
          "output_type": "display_data",
          "data": {
            "image/png": "[encoded data removed]",
            "text/plain": [
              "<Figure size 720x360 with 1 Axes>"
            ]
          },
          "metadata": {
            "tags": [],
            "needs_background": "light"
          }
        }
      ]
    },
    {
      "cell_type": "markdown",
      "metadata": {
        "id": "uSM-eSuBLpjq"
      },
      "source": [
        "Mato Grosso leads the ranking in 2004 followed by Pará. By 2005, There's a \"drastic\" reduction in Mato Grosso's deforestation endeavour and only between 2008 and 2012 there's a siginificant drop in Pará."
      ]
    },
    {
      "cell_type": "markdown",
      "metadata": {
        "id": "t8FkUE0jQG-8"
      },
      "source": [
        "### CREATE MAP VIZ HERE"
      ]
    },
    {
      "cell_type": "markdown",
      "metadata": {
        "id": "SMjb1WShS9xv"
      },
      "source": [
        "## Progression of deforestation yearly"
      ]
    },
    {
      "cell_type": "code",
      "metadata": {
        "colab": {
          "base_uri": "https://localhost:8080/",
          "height": 350
        },
        "id": "eHzTK1O3S8aW",
        "outputId": "c2baf0e7-6b5e-4c65-c500-6dfab1e342dc"
      },
      "source": [
        "sns.lineplot(data=deforest_14a19, x='Ano/Estados', y='AMZ LEGAL' )\n",
        "plt.title(\"Progression of deforestation yearly\")\n",
        "plt.xlabel('Years')\n",
        "plt.ylabel(\"Total in km²\")\n",
        "plt.show()"
      ],
      "execution_count": null,
      "outputs": [
        {
          "output_type": "display_data",
          "data": {
            "image/png": "[encoded data removed]",
            "text/plain": [
              "<Figure size 720x360 with 1 Axes>"
            ]
          },
          "metadata": {
            "tags": [],
            "needs_background": "light"
          }
        }
      ]
    },
    {
      "cell_type": "markdown",
      "metadata": {
        "id": "FHEdD1R5QkwO"
      },
      "source": [
        "## Modeling estimator"
      ]
    },
    {
      "cell_type": "code",
      "metadata": {
        "id": "5tW4x5ltMTvy"
      },
      "source": [
        ""
      ],
      "execution_count": null,
      "outputs": []
    },
    {
      "cell_type": "markdown",
      "metadata": {
        "id": "RcB3myfqQ5wl"
      },
      "source": [
        "### Separating X and Y"
      ]
    },
    {
      "cell_type": "code",
      "metadata": {
        "id": "7pIF3jJ1Q-0J"
      },
      "source": [
        "x = deforest_14a19.drop(columns='Ano/Estados')\n",
        "y = deforest_14a19['AMZ LEGAL']"
      ],
      "execution_count": null,
      "outputs": []
    },
    {
      "cell_type": "markdown",
      "metadata": {
        "id": "bvVAxt0xRZWh"
      },
      "source": [
        "### Separating training and test"
      ]
    },
    {
      "cell_type": "code",
      "metadata": {
        "id": "bR4tj1j1Q-xw"
      },
      "source": [
        "x_train, x_test, y_train, y_test = train_test_split(x,y,\n",
        "                                                    random_state=64,\n",
        "                                                    test_size=.3)"
      ],
      "execution_count": null,
      "outputs": []
    },
    {
      "cell_type": "code",
      "metadata": {
        "id": "BwECmzb8Q-vH"
      },
      "source": [
        "liregression = LinearRegression()"
      ],
      "execution_count": null,
      "outputs": []
    },
    {
      "cell_type": "code",
      "metadata": {
        "colab": {
          "base_uri": "https://localhost:8080/"
        },
        "id": "5_g2pSkwQ-sf",
        "outputId": "3adea88c-7658-4472-d6ef-f40d40e861b7"
      },
      "source": [
        "liregression.fit(x_train, y_train)"
      ],
      "execution_count": null,
      "outputs": [
        {
          "output_type": "execute_result",
          "data": {
            "text/plain": [
              "LinearRegression(copy_X=True, fit_intercept=True, n_jobs=None, normalize=False)"
            ]
          },
          "metadata": {
            "tags": []
          },
          "execution_count": 22
        }
      ]
    },
    {
      "cell_type": "code",
      "metadata": {
        "id": "FUG6mW49SGUe"
      },
      "source": [
        "predictions = liregression.predict(x_test)"
      ],
      "execution_count": null,
      "outputs": []
    },
    {
      "cell_type": "code",
      "metadata": {
        "id": "VnmMGdKfQ-qP"
      },
      "source": [
        "accuracy = liregression.score(x_test, y_test)"
      ],
      "execution_count": null,
      "outputs": []
    },
    {
      "cell_type": "code",
      "metadata": {
        "colab": {
          "base_uri": "https://localhost:8080/"
        },
        "id": "cwR3ZZM4Q-nW",
        "outputId": "afbafef3-c075-4b36-f2b0-81c7dd5a3811"
      },
      "source": [
        "print('The model Accuracy is: %.2f%%' % (accuracy*100))"
      ],
      "execution_count": null,
      "outputs": [
        {
          "output_type": "stream",
          "text": [
            "The model Accuracy is: 100.00%\n"
          ],
          "name": "stdout"
        }
      ]
    },
    {
      "cell_type": "code",
      "metadata": {
        "colab": {
          "base_uri": "https://localhost:8080/"
        },
        "id": "KbnCdvwfQ-kx",
        "outputId": "c6655ef4-f1b8-4cbe-f1b3-591acade9243"
      },
      "source": [
        "predictions"
      ],
      "execution_count": null,
      "outputs": [
        {
          "output_type": "execute_result",
          "data": {
            "text/plain": [
              "array([ 4571.,  6947.,  5012.,  5891., 14286.])"
            ]
          },
          "metadata": {
            "tags": []
          },
          "execution_count": 26
        }
      ]
    },
    {
      "cell_type": "markdown",
      "metadata": {
        "id": "_D0dG59526-B"
      },
      "source": [
        "# Analyzing Forest Fires"
      ]
    },
    {
      "cell_type": "code",
      "metadata": {
        "colab": {
          "base_uri": "https://localhost:8080/",
          "height": 198
        },
        "id": "OigB00kCao2X",
        "outputId": "56538fcd-8eee-4b91-d71c-bcdae3a995e8"
      },
      "source": [
        "amazon_fires = pd.read_csv(filepath_amazonfires)\n",
        "amazon_fires.head()"
      ],
      "execution_count": null,
      "outputs": [
        {
          "output_type": "execute_result",
          "data": {
            "text/html": [
              "<div>\n",
              "<style scoped>\n",
              "    .dataframe tbody tr th:only-of-type {\n",
              "        vertical-align: middle;\n",
              "    }\n",
              "\n",
              "    .dataframe tbody tr th {\n",
              "        vertical-align: top;\n",
              "    }\n",
              "\n",
              "    .dataframe thead th {\n",
              "        text-align: right;\n",
              "    }\n",
              "</style>\n",
              "<table border=\"1\" class=\"dataframe\">\n",
              "  <thead>\n",
              "    <tr style=\"text-align: right;\">\n",
              "      <th></th>\n",
              "      <th>year</th>\n",
              "      <th>month</th>\n",
              "      <th>state</th>\n",
              "      <th>latitude</th>\n",
              "      <th>longitude</th>\n",
              "      <th>firespots</th>\n",
              "    </tr>\n",
              "  </thead>\n",
              "  <tbody>\n",
              "    <tr>\n",
              "      <th>0</th>\n",
              "      <td>1999</td>\n",
              "      <td>1</td>\n",
              "      <td>AMAZONAS</td>\n",
              "      <td>-2.371113</td>\n",
              "      <td>-59.899933</td>\n",
              "      <td>3</td>\n",
              "    </tr>\n",
              "    <tr>\n",
              "      <th>1</th>\n",
              "      <td>1999</td>\n",
              "      <td>1</td>\n",
              "      <td>MARANHAO</td>\n",
              "      <td>-2.257395</td>\n",
              "      <td>-45.487831</td>\n",
              "      <td>36</td>\n",
              "    </tr>\n",
              "    <tr>\n",
              "      <th>2</th>\n",
              "      <td>1999</td>\n",
              "      <td>1</td>\n",
              "      <td>MATO GROSSO</td>\n",
              "      <td>-12.660633</td>\n",
              "      <td>-55.057989</td>\n",
              "      <td>18</td>\n",
              "    </tr>\n",
              "    <tr>\n",
              "      <th>3</th>\n",
              "      <td>1999</td>\n",
              "      <td>1</td>\n",
              "      <td>PARA</td>\n",
              "      <td>-2.474820</td>\n",
              "      <td>-48.546967</td>\n",
              "      <td>87</td>\n",
              "    </tr>\n",
              "    <tr>\n",
              "      <th>4</th>\n",
              "      <td>1999</td>\n",
              "      <td>1</td>\n",
              "      <td>RONDONIA</td>\n",
              "      <td>-12.861700</td>\n",
              "      <td>-60.513100</td>\n",
              "      <td>1</td>\n",
              "    </tr>\n",
              "  </tbody>\n",
              "</table>\n",
              "</div>"
            ],
            "text/plain": [
              "   year  month        state   latitude  longitude  firespots\n",
              "0  1999      1     AMAZONAS  -2.371113 -59.899933          3\n",
              "1  1999      1     MARANHAO  -2.257395 -45.487831         36\n",
              "2  1999      1  MATO GROSSO -12.660633 -55.057989         18\n",
              "3  1999      1         PARA  -2.474820 -48.546967         87\n",
              "4  1999      1     RONDONIA -12.861700 -60.513100          1"
            ]
          },
          "metadata": {
            "tags": []
          },
          "execution_count": 27
        }
      ]
    },
    {
      "cell_type": "code",
      "metadata": {
        "colab": {
          "base_uri": "https://localhost:8080/"
        },
        "id": "eddnI5LDawqS",
        "outputId": "12821256-41a7-4d42-cc81-4766320eadd1"
      },
      "source": [
        "amazon_fires.info()"
      ],
      "execution_count": null,
      "outputs": [
        {
          "output_type": "stream",
          "text": [
            "<class 'pandas.core.frame.DataFrame'>\n",
            "RangeIndex: 2104 entries, 0 to 2103\n",
            "Data columns (total 6 columns):\n",
            " #   Column     Non-Null Count  Dtype  \n",
            "---  ------     --------------  -----  \n",
            " 0   year       2104 non-null   int64  \n",
            " 1   month      2104 non-null   int64  \n",
            " 2   state      2104 non-null   object \n",
            " 3   latitude   2104 non-null   float64\n",
            " 4   longitude  2104 non-null   float64\n",
            " 5   firespots  2104 non-null   int64  \n",
            "dtypes: float64(2), int64(3), object(1)\n",
            "memory usage: 98.8+ KB\n"
          ],
          "name": "stdout"
        }
      ]
    },
    {
      "cell_type": "code",
      "metadata": {
        "colab": {
          "base_uri": "https://localhost:8080/",
          "height": 288
        },
        "id": "LGXMelEGa4XF",
        "outputId": "77048d40-0b1b-4d52-e7a9-c87cc0e9e05b"
      },
      "source": [
        "amazon_fires.describe()"
      ],
      "execution_count": null,
      "outputs": [
        {
          "output_type": "execute_result",
          "data": {
            "text/html": [
              "<div>\n",
              "<style scoped>\n",
              "    .dataframe tbody tr th:only-of-type {\n",
              "        vertical-align: middle;\n",
              "    }\n",
              "\n",
              "    .dataframe tbody tr th {\n",
              "        vertical-align: top;\n",
              "    }\n",
              "\n",
              "    .dataframe thead th {\n",
              "        text-align: right;\n",
              "    }\n",
              "</style>\n",
              "<table border=\"1\" class=\"dataframe\">\n",
              "  <thead>\n",
              "    <tr style=\"text-align: right;\">\n",
              "      <th></th>\n",
              "      <th>year</th>\n",
              "      <th>month</th>\n",
              "      <th>latitude</th>\n",
              "      <th>longitude</th>\n",
              "      <th>firespots</th>\n",
              "    </tr>\n",
              "  </thead>\n",
              "  <tbody>\n",
              "    <tr>\n",
              "      <th>count</th>\n",
              "      <td>2104.000000</td>\n",
              "      <td>2104.000000</td>\n",
              "      <td>2104.000000</td>\n",
              "      <td>2104.000000</td>\n",
              "      <td>2104.000000</td>\n",
              "    </tr>\n",
              "    <tr>\n",
              "      <th>mean</th>\n",
              "      <td>2009.267110</td>\n",
              "      <td>6.704848</td>\n",
              "      <td>-5.439282</td>\n",
              "      <td>-56.510314</td>\n",
              "      <td>1167.417776</td>\n",
              "    </tr>\n",
              "    <tr>\n",
              "      <th>std</th>\n",
              "      <td>5.963029</td>\n",
              "      <td>3.431949</td>\n",
              "      <td>4.852439</td>\n",
              "      <td>7.382619</td>\n",
              "      <td>2959.558714</td>\n",
              "    </tr>\n",
              "    <tr>\n",
              "      <th>min</th>\n",
              "      <td>1999.000000</td>\n",
              "      <td>1.000000</td>\n",
              "      <td>-14.431908</td>\n",
              "      <td>-73.085000</td>\n",
              "      <td>1.000000</td>\n",
              "    </tr>\n",
              "    <tr>\n",
              "      <th>25%</th>\n",
              "      <td>2004.000000</td>\n",
              "      <td>4.000000</td>\n",
              "      <td>-9.946974</td>\n",
              "      <td>-62.376004</td>\n",
              "      <td>16.000000</td>\n",
              "    </tr>\n",
              "    <tr>\n",
              "      <th>50%</th>\n",
              "      <td>2009.000000</td>\n",
              "      <td>7.000000</td>\n",
              "      <td>-5.808292</td>\n",
              "      <td>-55.876480</td>\n",
              "      <td>121.000000</td>\n",
              "    </tr>\n",
              "    <tr>\n",
              "      <th>75%</th>\n",
              "      <td>2014.000000</td>\n",
              "      <td>10.000000</td>\n",
              "      <td>-2.595169</td>\n",
              "      <td>-50.396154</td>\n",
              "      <td>755.000000</td>\n",
              "    </tr>\n",
              "    <tr>\n",
              "      <th>max</th>\n",
              "      <td>2019.000000</td>\n",
              "      <td>12.000000</td>\n",
              "      <td>4.151000</td>\n",
              "      <td>-44.188000</td>\n",
              "      <td>37926.000000</td>\n",
              "    </tr>\n",
              "  </tbody>\n",
              "</table>\n",
              "</div>"
            ],
            "text/plain": [
              "              year        month     latitude    longitude     firespots\n",
              "count  2104.000000  2104.000000  2104.000000  2104.000000   2104.000000\n",
              "mean   2009.267110     6.704848    -5.439282   -56.510314   1167.417776\n",
              "std       5.963029     3.431949     4.852439     7.382619   2959.558714\n",
              "min    1999.000000     1.000000   -14.431908   -73.085000      1.000000\n",
              "25%    2004.000000     4.000000    -9.946974   -62.376004     16.000000\n",
              "50%    2009.000000     7.000000    -5.808292   -55.876480    121.000000\n",
              "75%    2014.000000    10.000000    -2.595169   -50.396154    755.000000\n",
              "max    2019.000000    12.000000     4.151000   -44.188000  37926.000000"
            ]
          },
          "metadata": {
            "tags": []
          },
          "execution_count": 29
        }
      ]
    },
    {
      "cell_type": "code",
      "metadata": {
        "colab": {
          "base_uri": "https://localhost:8080/"
        },
        "id": "PDKtpGN0bD2X",
        "outputId": "34aaa2a0-e715-4c2b-d866-61dcb99ddad7"
      },
      "source": [
        "amazon_fires['state'].value_counts()"
      ],
      "execution_count": null,
      "outputs": [
        {
          "output_type": "execute_result",
          "data": {
            "text/plain": [
              "MATO GROSSO    252\n",
              "AMAZONAS       250\n",
              "PARA           250\n",
              "RONDONIA       246\n",
              "RORAIMA        243\n",
              "MARANHAO       241\n",
              "TOCANTINS      221\n",
              "ACRE           204\n",
              "AMAPA          197\n",
              "Name: state, dtype: int64"
            ]
          },
          "metadata": {
            "tags": []
          },
          "execution_count": 30
        }
      ]
    },
    {
      "cell_type": "code",
      "metadata": {
        "id": "DSL-f0XFbWZJ",
        "colab": {
          "base_uri": "https://localhost:8080/",
          "height": 198
        },
        "outputId": "01c7afbf-609a-4f00-81b5-5756c65f17ff"
      },
      "source": [
        "a = pd.read_csv(filepath_elnino)\n",
        "a.head()"
      ],
      "execution_count": null,
      "outputs": [
        {
          "output_type": "execute_result",
          "data": {
            "text/html": [
              "<div>\n",
              "<style scoped>\n",
              "    .dataframe tbody tr th:only-of-type {\n",
              "        vertical-align: middle;\n",
              "    }\n",
              "\n",
              "    .dataframe tbody tr th {\n",
              "        vertical-align: top;\n",
              "    }\n",
              "\n",
              "    .dataframe thead th {\n",
              "        text-align: right;\n",
              "    }\n",
              "</style>\n",
              "<table border=\"1\" class=\"dataframe\">\n",
              "  <thead>\n",
              "    <tr style=\"text-align: right;\">\n",
              "      <th></th>\n",
              "      <th>start year</th>\n",
              "      <th>end year</th>\n",
              "      <th>phenomenon</th>\n",
              "      <th>severity</th>\n",
              "    </tr>\n",
              "  </thead>\n",
              "  <tbody>\n",
              "    <tr>\n",
              "      <th>0</th>\n",
              "      <td>2004</td>\n",
              "      <td>2005</td>\n",
              "      <td>El Nino</td>\n",
              "      <td>Weak</td>\n",
              "    </tr>\n",
              "    <tr>\n",
              "      <th>1</th>\n",
              "      <td>2006</td>\n",
              "      <td>2007</td>\n",
              "      <td>El Nino</td>\n",
              "      <td>Weak</td>\n",
              "    </tr>\n",
              "    <tr>\n",
              "      <th>2</th>\n",
              "      <td>2014</td>\n",
              "      <td>2015</td>\n",
              "      <td>El Nino</td>\n",
              "      <td>Weak</td>\n",
              "    </tr>\n",
              "    <tr>\n",
              "      <th>3</th>\n",
              "      <td>2018</td>\n",
              "      <td>2019</td>\n",
              "      <td>El Nino</td>\n",
              "      <td>Weak</td>\n",
              "    </tr>\n",
              "    <tr>\n",
              "      <th>4</th>\n",
              "      <td>2002</td>\n",
              "      <td>2003</td>\n",
              "      <td>El Nino</td>\n",
              "      <td>Moderate</td>\n",
              "    </tr>\n",
              "  </tbody>\n",
              "</table>\n",
              "</div>"
            ],
            "text/plain": [
              "   start year  end year phenomenon  severity\n",
              "0        2004      2005    El Nino      Weak\n",
              "1        2006      2007    El Nino      Weak\n",
              "2        2014      2015    El Nino      Weak\n",
              "3        2018      2019    El Nino      Weak\n",
              "4        2002      2003    El Nino  Moderate"
            ]
          },
          "metadata": {
            "tags": []
          },
          "execution_count": 31
        }
      ]
    }
  ]
}